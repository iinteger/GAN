{
 "cells": [
  {
   "cell_type": "code",
   "execution_count": 1,
   "id": "2cae7070",
   "metadata": {},
   "outputs": [],
   "source": [
    "import torch\n",
    "import torch.nn as nn\n",
    "import torch.optim as optim\n",
    "import torchvision.utils as utils\n",
    "import torchvision.datasets as dsets\n",
    "import torchvision.transforms as transforms\n",
    "import numpy as np\n",
    "import matplotlib.pyplot as plt"
   ]
  },
  {
   "cell_type": "code",
   "execution_count": 2,
   "id": "855e0d2a",
   "metadata": {},
   "outputs": [],
   "source": [
    "def imshow(img):\n",
    "    img = (img+1)/2\n",
    "    img = img.squeeze()\n",
    "    np_img = img.numpy()\n",
    "    plt.imshow(np_img, cmap='gray')\n",
    "    plt.show()\n",
    "\n",
    "def imshow_grid(img):\n",
    "    img = utils.make_grid(img.cpu().detach())\n",
    "    img = (img+1)/2\n",
    "    npimg = img.numpy()\n",
    "    plt.imshow(np.transpose(npimg, (1,2,0)))\n",
    "    plt.show()"
   ]
  },
  {
   "cell_type": "code",
   "execution_count": 3,
   "id": "390931f1",
   "metadata": {},
   "outputs": [
    {
     "name": "stdout",
     "output_type": "stream",
     "text": [
      "cuda\n"
     ]
    }
   ],
   "source": [
    "USE_CUDA = torch.cuda.is_available()\n",
    "device = torch.device(\"cuda\" if USE_CUDA else \"cpu\")\n",
    "print(device)\n",
    "batch_size = 32"
   ]
  },
  {
   "cell_type": "code",
   "execution_count": 4,
   "id": "2ea06bbf",
   "metadata": {},
   "outputs": [],
   "source": [
    "# data loader\n",
    "\n",
    "train_loader = torch.utils.data.DataLoader(\n",
    "    dsets.MNIST(root=\"data/\",\n",
    "                train=True,\n",
    "                download=True,\n",
    "                transform=transforms.Compose([\n",
    "                    transforms.ToTensor()\n",
    "                ])),\n",
    "    batch_size=batch_size,\n",
    "    shuffle=True\n",
    ")\n",
    "\n",
    "test_loader = torch.utils.data.DataLoader(\n",
    "    dsets.MNIST(root=\"data/\",\n",
    "                train=False,\n",
    "                download=True,\n",
    "                transform=transforms.Compose([\n",
    "                    transforms.ToTensor()\n",
    "                ])),\n",
    "    batch_size=batch_size,\n",
    "    shuffle=True\n",
    ")"
   ]
  },
  {
   "cell_type": "code",
   "execution_count": 5,
   "id": "e1cd8fc5",
   "metadata": {},
   "outputs": [],
   "source": [
    "# Network\n",
    "\n",
    "def sample_z(batch_size=1, d_noise=100):\n",
    "    return torch.randn(batch_size, d_noise, device=device)\n",
    "\n",
    "d_noise = 100\n",
    "\n",
    "G = nn.Sequential(\n",
    "    nn.Linear(d_noise, 256),\n",
    "    nn.ReLU(),\n",
    "    nn.Dropout(0.1),\n",
    "    nn.Linear(256, 256),\n",
    "    nn.ReLU(),\n",
    "    nn.Dropout(0.1),\n",
    "    nn.Linear(256, 28*28),\n",
    "    nn.Tanh()\n",
    ").to(device)\n",
    "\n",
    "D = nn.Sequential(\n",
    "    nn.Linear(28*28, 256),\n",
    "    nn.LeakyReLU(),\n",
    "    nn.Dropout(0.1),\n",
    "    nn.Linear(256, 256),\n",
    "    nn.LeakyReLU(),\n",
    "    nn.Dropout(0.1),\n",
    "    nn.Linear(256, 1),\n",
    "    nn.Sigmoid()\n",
    ").to(device)"
   ]
  },
  {
   "cell_type": "code",
   "execution_count": 6,
   "id": "b4cec57c",
   "metadata": {},
   "outputs": [],
   "source": [
    "# sample image\n",
    "\n",
    "# z = sample_z()\n",
    "# img_fake = G(z).view(-1, 28, 28)\n",
    "# imshow(img_fake.squeeze().cpu().detach())\n",
    "\n",
    "# z = sample_z(batch_size)\n",
    "# img_fake = G(z)\n",
    "# imshow_grid(img_fake)\n",
    "\n",
    "# print(G(z).shape)\n",
    "# print(D(G(z)).shape)"
   ]
  },
  {
   "cell_type": "code",
   "execution_count": 7,
   "id": "d1670ca3",
   "metadata": {},
   "outputs": [],
   "source": [
    "criterion = nn.BCELoss()\n",
    "\n",
    "def evaluate_model(generator, discriminator):\n",
    "\n",
    "    p_real, p_fake =0., 0.\n",
    "\n",
    "    generator.eval()\n",
    "    discriminator.eval()\n",
    "\n",
    "    for img, label in test_loader:\n",
    "        img, label = img.to(device), label.to(device)\n",
    "\n",
    "        with torch.autograd.no_grad():\n",
    "            p_real += (torch.sum(discriminator(img.view(-1, 28*28))).item())/10000.\n",
    "            p_fake += (torch.sum(discriminator(generator(sample_z(batch_size, d_noise)))).item())/10000.\n",
    "\n",
    "    return p_real, p_fake\n",
    "\n",
    "def init_params(model):\n",
    "    for p in model.parameters():\n",
    "        if p.dim() > 1:\n",
    "            nn.init.xavier_normal_(p)\n",
    "        else:\n",
    "            nn.init.uniform_(p, 0.1, 0.2)"
   ]
  },
  {
   "cell_type": "code",
   "execution_count": 8,
   "id": "b56f72cd",
   "metadata": {},
   "outputs": [],
   "source": [
    "init_params(G)\n",
    "init_params(D)\n",
    "\n",
    "optimizer_g = optim.Adam(G.parameters(), lr=0.0002)\n",
    "optimizer_d = optim.Adam(D.parameters(), lr=0.0002)\n",
    "\n",
    "p_real_trace = []\n",
    "p_fake_trace = []"
   ]
  },
  {
   "cell_type": "code",
   "execution_count": 9,
   "id": "067ee3a2",
   "metadata": {},
   "outputs": [
    {
     "name": "stdout",
     "output_type": "stream",
     "text": [
      "0\n",
      "1\n",
      "2\n",
      "3\n",
      "4\n",
      "5\n",
      "6\n",
      "7\n",
      "8\n",
      "9\n",
      "(epoch 10/10) p_real: 0.894620, p_g: 0.082194\n"
     ]
    },
    {
     "data": {
      "image/png": "[encoded data removed]",
      "text/plain": [
       "<Figure size 432x288 with 1 Axes>"
      ]
     },
     "metadata": {
      "needs_background": "light"
     },
     "output_type": "display_data"
    }
   ],
   "source": [
    "for epoch in range(10):\n",
    "    print(epoch)\n",
    "    G.train()\n",
    "    D.train()\n",
    "\n",
    "    for img, label in train_loader:\n",
    "        img, label = img.to(device), label.to(device)\n",
    "\n",
    "        optimizer_d.zero_grad()\n",
    "\n",
    "        p_real = D(img.view(-1, 28 * 28))\n",
    "        p_fake = D(G(sample_z(batch_size, d_noise)))\n",
    "\n",
    "        # loss computation based on paper\n",
    "        loss_real = -1 * torch.log(p_real)\n",
    "        loss_fake = -1 * torch.log(1. - p_fake)\n",
    "        loss_d = (loss_real + loss_fake).mean()\n",
    "\n",
    "        # loss computation based on cross entropy\n",
    "        # loss_d = criterion(p_real, torch.ones_like(p_real).to(device)) + criterion(p_fake, torch.zeros_like(p_real).to(device))\n",
    "\n",
    "        # update D parameters\n",
    "        loss_d.backward()\n",
    "        optimizer_d.step()\n",
    "\n",
    "        # minimize V\n",
    "\n",
    "        # init optimizer\n",
    "        optimizer_g.zero_grad()\n",
    "\n",
    "        p_fake = D(G(sample_z(batch_size, d_noise)))\n",
    "\n",
    "        # loss computation based on paper\n",
    "        loss_g = -1 * torch.log(p_fake).mean()\n",
    "\n",
    "        # loss computation based on cross entropy\n",
    "        # loss_g = criterion(p_fake, torch.ones_like(p_fake).to(device))\n",
    "\n",
    "        loss_g.backward()\n",
    "\n",
    "        # update G parameters\n",
    "        optimizer_g.step()\n",
    "    p_real, p_fake = evaluate_model(G, D)\n",
    "\n",
    "    p_real_trace.append(p_real)\n",
    "    p_fake_trace.append(p_fake)\n",
    "\n",
    "    if (epoch+1)%10 == 0:\n",
    "        print('(epoch %i/10) p_real: %f, p_g: %f' % (epoch+1, p_real, p_fake))\n",
    "        imshow_grid(G(sample_z(16)).view(-1, 1, 28, 28))"
   ]
  }
 ],
 "metadata": {
  "kernelspec": {
   "display_name": "Python 3",
   "language": "python",
   "name": "python3"
  },
  "language_info": {
   "codemirror_mode": {
    "name": "ipython",
    "version": 3
   },
   "file_extension": ".py",
   "mimetype": "text/x-python",
   "name": "python",
   "nbconvert_exporter": "python",
   "pygments_lexer": "ipython3",
   "version": "3.8.8"
  }
 },
 "nbformat": 4,
 "nbformat_minor": 5
}
